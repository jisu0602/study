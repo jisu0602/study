{
  "nbformat": 4,
  "nbformat_minor": 0,
  "metadata": {
    "colab": {
      "name": "hw1",
      "provenance": [],
      "authorship_tag": "ABX9TyPH1nGi9KxpzUAUy7ZytlIm",
      "include_colab_link": true
    },
    "kernelspec": {
      "name": "python3",
      "display_name": "Python 3"
    }
  },
  "cells": [
    {
      "cell_type": "markdown",
      "metadata": {
        "id": "view-in-github",
        "colab_type": "text"
      },
      "source": [
        "<a href=\"https://colab.research.google.com/github/jisu0602/study/blob/master/hw1.ipynb\" target=\"_parent\"><img src=\"https://colab.research.google.com/assets/colab-badge.svg\" alt=\"Open In Colab\"/></a>"
      ]
    },
    {
      "cell_type": "code",
      "metadata": {
        "id": "V1Ri5eUm-Kww",
        "colab_type": "code",
        "outputId": "66ca69f6-c28e-4c15-926e-c1cc242da474",
        "colab": {
          "base_uri": "https://localhost:8080/",
          "height": 107
        }
      },
      "source": [
        "for n in range(5):\n",
        "  print(\"*\"*(n+1))"
      ],
      "execution_count": 0,
      "outputs": [
        {
          "output_type": "stream",
          "text": [
            "*\n",
            "**\n",
            "***\n",
            "****\n",
            "*****\n"
          ],
          "name": "stdout"
        }
      ]
    },
    {
      "cell_type": "code",
      "metadata": {
        "id": "ByILC_Ty_7CU",
        "colab_type": "code",
        "outputId": "c419bc22-30e9-4d7a-c41c-d8899917d4f9",
        "colab": {
          "base_uri": "https://localhost:8080/",
          "height": 107
        }
      },
      "source": [
        "for n in range(5):\n",
        "  print(\"{:>5}\".format(\"*\"*(n+1)))"
      ],
      "execution_count": 0,
      "outputs": [
        {
          "output_type": "stream",
          "text": [
            "    *\n",
            "   **\n",
            "  ***\n",
            " ****\n",
            "*****\n"
          ],
          "name": "stdout"
        }
      ]
    },
    {
      "cell_type": "markdown",
      "metadata": {
        "id": "N8FUMTItB1kt",
        "colab_type": "text"
      },
      "source": [
        "{:<5} 왼쪽 정렬\n",
        "\n",
        "{:>5} 오른쪽 정렬\n",
        "\n",
        "{:^5} 가운데 정렬"
      ]
    },
    {
      "cell_type": "code",
      "metadata": {
        "id": "jdp2A6sTBR_j",
        "colab_type": "code",
        "outputId": "1494a877-c8a6-4337-dce8-ac63f1e8ee16",
        "colab": {
          "base_uri": "https://localhost:8080/",
          "height": 107
        }
      },
      "source": [
        "for n in range(5):\n",
        "  print(\"{:^10}\".format(\"*\"*(n+(n+1))))"
      ],
      "execution_count": 0,
      "outputs": [
        {
          "output_type": "stream",
          "text": [
            "    *     \n",
            "   ***    \n",
            "  *****   \n",
            " *******  \n",
            "********* \n"
          ],
          "name": "stdout"
        }
      ]
    },
    {
      "cell_type": "markdown",
      "metadata": {
        "id": "G5ThjdGDDShs",
        "colab_type": "text"
      },
      "source": [
        "1=(0+1)\n",
        "\n",
        "3=(1+2)\n",
        "\n",
        "5=(2+3)\n",
        "\n",
        "7=(3+4)\n",
        "\n",
        "9=(4+5)\n",
        "\n",
        "...=n+(n+1)"
      ]
    },
    {
      "cell_type": "code",
      "metadata": {
        "id": "oMymECENM5wf",
        "colab_type": "code",
        "outputId": "a564fb7d-63ef-495a-d10f-2460db17dccb",
        "colab": {
          "base_uri": "https://localhost:8080/",
          "height": 107
        }
      },
      "source": [
        "for n in range(5, 0, -1):\n",
        "  print(\"{:^10}\".format(\"*\"*((n*2)-1)))"
      ],
      "execution_count": 0,
      "outputs": [
        {
          "output_type": "stream",
          "text": [
            "********* \n",
            " *******  \n",
            "  *****   \n",
            "   ***    \n",
            "    *     \n"
          ],
          "name": "stdout"
        }
      ]
    },
    {
      "cell_type": "markdown",
      "metadata": {
        "id": "9AsUcMSYOO52",
        "colab_type": "text"
      },
      "source": [
        "9=((5*2)-1)\n",
        "\n",
        "7=((4*2)-1)\n",
        "\n",
        "5=((3*2)-1)\n",
        "\n",
        "3=((2*2)-1)\n",
        "\n",
        "1=((1*2)-1)\n",
        "\n",
        "...=((n*2)-1)"
      ]
    },
    {
      "cell_type": "code",
      "metadata": {
        "id": "TuqJw8IJDMFm",
        "colab_type": "code",
        "outputId": "b1819ea1-8746-4011-d370-5772f3982489",
        "colab": {
          "base_uri": "https://localhost:8080/",
          "height": 107
        }
      },
      "source": [
        "for n in range(3):\n",
        "    print(\"{:^5}\".format(\"*\"*(n+(n+1))))\n",
        "\n",
        "for n in range(2, 0, -1):\n",
        "    print(\"{:^5}\".format(\"*\"*((n*2)-1)))"
      ],
      "execution_count": 0,
      "outputs": [
        {
          "output_type": "stream",
          "text": [
            "  *  \n",
            " *** \n",
            "*****\n",
            " *** \n",
            "  *  \n"
          ],
          "name": "stdout"
        }
      ]
    },
    {
      "cell_type": "markdown",
      "metadata": {
        "id": "4YjBkbJvEwWt",
        "colab_type": "text"
      },
      "source": [
        "1=(0+1)\n",
        "\n",
        "3=(1+2)\n",
        "\n",
        "5=(2+3)\n",
        "\n",
        "...=(n+(n+1))\n",
        "\n",
        "3=(2*2)-1\n",
        "\n",
        "1=(1*n)-1\n",
        "\n",
        "...=(n*2)-1"
      ]
    }
  ]
}