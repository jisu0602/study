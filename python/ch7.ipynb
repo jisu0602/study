{
  "nbformat": 4,
  "nbformat_minor": 0,
  "metadata": {
    "colab": {
      "name": "ch7",
      "provenance": [],
      "authorship_tag": "ABX9TyO5L3XuHnWjUVqm44yFvDa7",
      "include_colab_link": true
    },
    "kernelspec": {
      "name": "python3",
      "display_name": "Python 3"
    }
  },
  "cells": [
    {
      "cell_type": "markdown",
      "metadata": {
        "id": "view-in-github",
        "colab_type": "text"
      },
      "source": [
        "<a href=\"https://colab.research.google.com/github/jisu0602/study/blob/master/ch7.ipynb\" target=\"_parent\"><img src=\"https://colab.research.google.com/assets/colab-badge.svg\" alt=\"Open In Colab\"/></a>"
      ]
    },
    {
      "cell_type": "code",
      "metadata": {
        "id": "184UEbm3PpPn",
        "colab_type": "code",
        "colab": {
          "base_uri": "https://localhost:8080/",
          "height": 35
        },
        "outputId": "364c2d2d-8aa9-4f5e-8e93-f0fa6b096427"
      },
      "source": [
        " import math  #수학 관련 모듈\n",
        " math.cos(1)\n",
        "\n",
        " '''\n",
        " sin(x), cos(x), tan(x)\n",
        " log(x[, base])\n",
        " ceil(x) 올림\n",
        " floor(x) 내림\n",
        " round(x) 반올림\n",
        " '''\n",
        "from math import sin, cos, tan, floor, ceil  #from 구문을 사용하면 cos 앞에 math를 계속 안 붙여도 됨\n",
        "cos(1)\n",
        "\n",
        "from math import * #모든 기능을 가져올 수 있음. 식별자 이름에서 충돌이 일어날 수 있으므로 주의\n",
        "\n",
        "import math as m #사용하고 싶은 식별자로 사용 가능"
      ],
      "execution_count": 2,
      "outputs": [
        {
          "output_type": "execute_result",
          "data": {
            "text/plain": [
              "0.5403023058681398"
            ]
          },
          "metadata": {
            "tags": []
          },
          "execution_count": 2
        }
      ]
    },
    {
      "cell_type": "code",
      "metadata": {
        "id": "j_GnhAaBTJ82",
        "colab_type": "code",
        "colab": {}
      },
      "source": [
        "'''\n",
        "random: 랜덤 모듈\n",
        "sys: 시스템 정보 모듈\n",
        "os: 운영체제 모듈\n",
        "datetime: 날짜(date), 시간(time) 관련 모듈\n",
        "time : 시간 모듈(유닉스 타임), time.sleep(5)-> 5초 동안 정지\n",
        "urllib: url을 다루는 라이브러리\n",
        "'''"
      ],
      "execution_count": 0,
      "outputs": []
    },
    {
      "cell_type": "code",
      "metadata": {
        "id": "l6qKCXrRa7li",
        "colab_type": "code",
        "colab": {
          "base_uri": "https://localhost:8080/",
          "height": 377
        },
        "outputId": "b67afb44-562b-41fc-b43c-76e378ede6c8"
      },
      "source": [
        "#확인문제 3. \n",
        "import os\n",
        "\n",
        "output = os.listdir(\".\")\n",
        "print(\"os.listdir:\", output)\n",
        "print()\n",
        "\n",
        "print(\"# 폴더와 파일 구분하기\")\n",
        "for path in output:\n",
        "  if os.path.isdir(path):\n",
        "    print(\"폴더:\", path)\n",
        "  else:\n",
        "    print(\"파일:\", path)\n",
        "\n",
        "def read_folder(path):\n",
        "  output=os.listdir(path)\n",
        "  for item in output:\n",
        "    if os.path.isdir(item):\n",
        "      read_folder(item)\n",
        "    else:\n",
        "      print(\"파일:\", item)\n",
        "\n",
        "read_folder(\".\")"
      ],
      "execution_count": 5,
      "outputs": [
        {
          "output_type": "stream",
          "text": [
            "os.listdir: ['.config', 'sample_data']\n",
            "\n",
            "# 폴더와 파일 구분하기\n",
            "폴더: .config\n",
            "폴더: sample_data\n",
            "파일: .last_update_check.json\n",
            "파일: .last_opt_in_prompt.yaml\n",
            "파일: gce\n",
            "파일: logs\n",
            "파일: .last_survey_prompt.yaml\n",
            "파일: active_config\n",
            "파일: config_sentinel\n",
            "파일: configurations\n",
            "파일: .metricsUUID\n",
            "파일: README.md\n",
            "파일: anscombe.json\n",
            "파일: california_housing_train.csv\n",
            "파일: california_housing_test.csv\n",
            "파일: mnist_train_small.csv\n",
            "파일: mnist_test.csv\n"
          ],
          "name": "stdout"
        }
      ]
    },
    {
      "cell_type": "code",
      "metadata": {
        "id": "qRHsKQUdbq3T",
        "colab_type": "code",
        "colab": {}
      },
      "source": [
        "'''\n",
        "pip install: 외부 모듈을 설치할 때 사용하는 명령어\n",
        "BeautifulSoup: 웹 페이지 분석 모듈\n",
        "Flask: 웹 개발에서 작은 기능을 제공하는 프레임워크\n",
        "\n",
        "라이브러리: 정상적인 제어를 하는 모듈(개발자가 모듈의 기능을 직접 호출)\n",
        "프레임워크: 제어 역전이 발생하는 모듈(개발자가 만든 함수를 모듈이 실행)\n",
        "'''"
      ],
      "execution_count": 0,
      "outputs": []
    },
    {
      "cell_type": "code",
      "metadata": {
        "id": "2iojCyC2gmTg",
        "colab_type": "code",
        "colab": {}
      },
      "source": [
        "'''\n",
        "__name__=\"__main__\" -> 현재 파일이 엔트리 포인트인지 확일할 때 사용하는 코드\n",
        "엔트리 포인트(entry point): 프로그램의 진입점, 메인(main)\n",
        "패키지: 모듈이 모여 구조를 이루는 것\n",
        "module_package/test_package/module_a.py\n",
        "                           /module_b.py\n",
        "                           /__init__.py -> 패키지 내부의 모든 모듈을 한꺼번에 가져오고 싶을 때\n",
        "              /main.py\n",
        "'''"
      ],
      "execution_count": 0,
      "outputs": []
    }
  ]
}
