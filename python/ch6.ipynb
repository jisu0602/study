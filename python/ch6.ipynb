{
  "nbformat": 4,
  "nbformat_minor": 0,
  "metadata": {
    "colab": {
      "name": "ch6",
      "provenance": [],
      "collapsed_sections": [],
      "authorship_tag": "ABX9TyO0So1Z1gLOinmp9iFgkRzL",
      "include_colab_link": true
    },
    "kernelspec": {
      "name": "python3",
      "display_name": "Python 3"
    }
  },
  "cells": [
    {
      "cell_type": "markdown",
      "metadata": {
        "id": "view-in-github",
        "colab_type": "text"
      },
      "source": [
        "<a href=\"https://colab.research.google.com/github/jisu0602/study/blob/master/ch6.ipynb\" target=\"_parent\"><img src=\"https://colab.research.google.com/assets/colab-badge.svg\" alt=\"Open In Colab\"/></a>"
      ]
    },
    {
      "cell_type": "code",
      "metadata": {
        "id": "rXnT9qUX8VPd",
        "colab_type": "code",
        "colab": {
          "base_uri": "https://localhost:8080/",
          "height": 215
        },
        "outputId": "cea76e12-b2cb-4161-cac4-077b3fb1fe82"
      },
      "source": [
        "#구문 오류: 프로그램 실행 전에 발생\n",
        "#예외, 런타임 오류: 프로그램 실행 중에 발생\n",
        "#예외 처리: 예외를 해결하는 모든 것\n",
        "\n",
        "#조건문으로 예외 처리하기\n",
        "user_input_a = input(\"정수 입력> \")\n",
        "\n",
        "if user_input_a.isdigit():\n",
        "  number_input_a = int(user_input_a)\n",
        "\n",
        "  print(\"원의 반지름:\", number_input_a)\n",
        "  print(\"원의 둘레:\", 2*3.14*number_input_a)\n",
        "  print(\"원의 넓이:\", 3.14*number_input_a*number_input_a)\n",
        "\n",
        "else:\n",
        "  print(\"정수를 입력하지 않았습니다.\")\n",
        "\n",
        "#try except 구문으로 예외 처리하기\n",
        "try: \n",
        "  number_input_a = int(input(\"정수 입력> \"))\n",
        "\n",
        "  print(\"원의 반지름:\", number_input_a)\n",
        "  print(\"원의 둘레:\", 2*3.14*number_input_a)\n",
        "  print(\"원의 넓이:\", 3.14*number_input_a*number_input_a)\n",
        "\n",
        "except:\n",
        "  print(\"정수를 입력하지 않았습니다.\")\n",
        "  #여기에 pass를 넣으면 예외가 발생할 때 그냥 넘어감\n",
        "\n",
        "#try, except, else, finally로 예외 처리하기\n",
        "try: \n",
        "  number_input_a = int(input(\"정수 입력> \"))\n",
        "\n",
        "  print(\"원의 반지름:\", number_input_a)\n",
        "  print(\"원의 둘레:\", 2*3.14*number_input_a)\n",
        "  print(\"원의 넓이:\", 3.14*number_input_a*number_input_a)\n",
        "\n",
        "except:\n",
        "  print(\"정수를 입력하지 않았습니다.\")\n",
        "\n",
        "else: \n",
        "  print(\"예외가 발생하지 않았습니다.\")\n",
        "\n",
        "finally:\n",
        "  print(\"일단 프로그램이 어떻게든 끝났습니다.\")"
      ],
      "execution_count": 5,
      "outputs": [
        {
          "output_type": "stream",
          "text": [
            "정수 입력> 8\n",
            "원의 반지름: 8\n",
            "원의 둘레: 50.24\n",
            "원의 넓이: 200.96\n",
            "정수 입력> 9\n",
            "원의 반지름: 9\n",
            "원의 둘레: 56.52\n",
            "원의 넓이: 254.34\n",
            "정수 입력> ㅇㅇ\n",
            "정수를 입력하지 않았습니다.\n",
            "일단 프로그램이 어떻게든 끝났습니다.\n"
          ],
          "name": "stdout"
        }
      ]
    },
    {
      "cell_type": "code",
      "metadata": {
        "id": "Xu3dFE7dCtcp",
        "colab_type": "code",
        "colab": {
          "base_uri": "https://localhost:8080/",
          "height": 125
        },
        "outputId": "94da2aaf-8e10-4134-8018-713fc060c9ff"
      },
      "source": [
        "#finally 구문으로 파일 닫기\n",
        "try:\n",
        "  file = open(\"info.txt\", \"w\")\n",
        "  예외.발생해랏()\n",
        "except Exception as e:\n",
        "  print(e)\n",
        "finally:\n",
        "  file.close()\n",
        "print(\"# 파일이 제대로 닫혔나...?\")\n",
        "print(\"file.closed:\", file.closed)\n",
        "\n",
        "def test():\n",
        "  print(\"test() 함수 첫 줄임\")\n",
        "  try:\n",
        "    print(\"try 구문 실행됨\")\n",
        "    return\n",
        "    print(\"try 구문 return 키위드 뒤임\")\n",
        "  except:\n",
        "    print(\"except 구문 실행됨\")\n",
        "  else:\n",
        "    print(\"else 구문 실행됨\")\n",
        "  finally:\n",
        "    print(\"finally 구문 실행됨\")\n",
        "  print(\"test() 함수 마지막 줄임\") #*** 이거는 왜 실행이 안 될까?\n",
        "\n",
        "test()"
      ],
      "execution_count": 7,
      "outputs": [
        {
          "output_type": "stream",
          "text": [
            "name '예외' is not defined\n",
            "# 파일이 제대로 닫혔나...?\n",
            "file.closed: True\n",
            "test() 함수 첫 줄임\n",
            "try 구문 실행됨\n",
            "finally 구문 실행됨\n"
          ],
          "name": "stdout"
        }
      ]
    },
    {
      "cell_type": "code",
      "metadata": {
        "id": "BD6vhvZZKrui",
        "colab_type": "code",
        "colab": {
          "base_uri": "https://localhost:8080/",
          "height": 89
        },
        "outputId": "f528775c-e259-47f9-e773-3a4adfd0115b"
      },
      "source": [
        "#예외 객체: 예외가 발생했을 때 예외에 관련된 정보가 저장되는 객체\n",
        "#모든 예외 잡기\n",
        "list_number = [52, 273, 32, 72, 100]\n",
        "\n",
        "try:\n",
        "  number_input=int(input(\"정수 입력> \"))\n",
        "  print(\"{}번째 요소: {}\".format(number_input, list_number[number_input]))\n",
        "  예외.발생해주세욧()\n",
        "except ValueError as exception:\n",
        "  print(\"정수를 입력해주세요!!\")\n",
        "  print(type(exception), exception)\n",
        "except IndexError as exception:\n",
        "  print(\"리스트의 인덱스를 벗어났습니다!!\")\n",
        "  print(type(exception), exception)\n",
        "except Exception as exception:\n",
        "  print(\"미리 파악하지 못한 예외가 발생했습니다...\")\n",
        "  print(type(exception), exception)"
      ],
      "execution_count": 9,
      "outputs": [
        {
          "output_type": "stream",
          "text": [
            "정수 입력> 1\n",
            "1번째 요소: 273\n",
            "미리 파악하지 못한 예외가 발생했습니다...\n",
            "<class 'NameError'> name '예외' is not defined\n"
          ],
          "name": "stdout"
        }
      ]
    }
  ]
}
