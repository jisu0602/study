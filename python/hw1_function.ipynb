{
  "nbformat": 4,
  "nbformat_minor": 0,
  "metadata": {
    "colab": {
      "name": "hw1_function",
      "provenance": [],
      "authorship_tag": "ABX9TyPPgsSDZkEbCtHUKchFnmtR",
      "include_colab_link": true
    },
    "kernelspec": {
      "name": "python3",
      "display_name": "Python 3"
    }
  },
  "cells": [
    {
      "cell_type": "markdown",
      "metadata": {
        "id": "view-in-github",
        "colab_type": "text"
      },
      "source": [
        "<a href=\"https://colab.research.google.com/github/jisu0602/study/blob/master/hw1_function.ipynb\" target=\"_parent\"><img src=\"https://colab.research.google.com/assets/colab-badge.svg\" alt=\"Open In Colab\"/></a>"
      ]
    },
    {
      "cell_type": "code",
      "metadata": {
        "id": "0-Qdh71OEVit",
        "colab_type": "code",
        "colab": {
          "base_uri": "https://localhost:8080/",
          "height": 467
        },
        "outputId": "ce292536-ea5e-4c22-c179-73582b9f39b7"
      },
      "source": [
        "n=int(input(\">>숫자 입력: \"))\n",
        "\n",
        "def print_triangle(n):\n",
        "  print(\"> print_triangle(n)\")\n",
        "  for i in range(n):\n",
        "   print(\"*\"*(i+1))\n",
        "\n",
        "def print_reversed_triangle(n):\n",
        "  print(\"> print_reversed_triangle(n)\")\n",
        "  for i in range(n):\n",
        "    format_str = \"{:>\"+str(n)+\"}\"\n",
        "    print(format_str.format(\"*\"*(i+1)))\n",
        "\n",
        "def print_tree(n):\n",
        "  print(\"> print_tree(n)\")\n",
        "  for i in range(n):\n",
        "    format_str = \"{:^\"+str(n*2)+\"}\"\n",
        "    print(format_str.format(\"*\"*(i+(i+1))))\n",
        "\n",
        "def print_diamond(n):\n",
        "  print(\"> print_diamond(n)\")\n",
        "  for i in range(n//2):\n",
        "    format_str = \"{:^\"+str(n)+\"}\"\n",
        "    print(format_str.format(\"*\"*(i+(i+1))))\n",
        "  \n",
        "  if(n%2==1): #n이 홀수면 가운뎃줄 출력하기\n",
        "    print(\"*\"*n)\n",
        "  \n",
        "  for i in range(n//2, 0, -1):\n",
        "    format_str = \"{:^\"+str(n)+\"}\"\n",
        "    print(format_str.format(\"*\"*((i*2)-1)))\n",
        "  \n",
        "print_triangle(n)\n",
        "print_reversed_triangle(n)\n",
        "print_tree(n)\n",
        "print_diamond(n)"
      ],
      "execution_count": 67,
      "outputs": [
        {
          "output_type": "stream",
          "text": [
            ">>숫자 입력: 5\n",
            "> print_triangle(n)\n",
            "*\n",
            "**\n",
            "***\n",
            "****\n",
            "*****\n",
            "> print_reversed_triangle(n)\n",
            "    *\n",
            "   **\n",
            "  ***\n",
            " ****\n",
            "*****\n",
            "> print_tree(n)\n",
            "    *     \n",
            "   ***    \n",
            "  *****   \n",
            " *******  \n",
            "********* \n",
            "> print_diamond(n)\n",
            "  *  \n",
            " *** \n",
            "*****\n",
            " *** \n",
            "  *  \n"
          ],
          "name": "stdout"
        }
      ]
    }
  ]
}
