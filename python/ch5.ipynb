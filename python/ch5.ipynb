{
  "nbformat": 4,
  "nbformat_minor": 0,
  "metadata": {
    "colab": {
      "name": "ch5",
      "provenance": [],
      "authorship_tag": "ABX9TyO2AZu5FLfo51G/MiqA/ELU",
      "include_colab_link": true
    },
    "kernelspec": {
      "name": "python3",
      "display_name": "Python 3"
    }
  },
  "cells": [
    {
      "cell_type": "markdown",
      "metadata": {
        "id": "view-in-github",
        "colab_type": "text"
      },
      "source": [
        "<a href=\"https://colab.research.google.com/github/jisu0602/study/blob/master/ch5.ipynb\" target=\"_parent\"><img src=\"https://colab.research.google.com/assets/colab-badge.svg\" alt=\"Open In Colab\"/></a>"
      ]
    },
    {
      "cell_type": "code",
      "metadata": {
        "id": "hGHHs_WQQQTH",
        "colab_type": "code",
        "outputId": "366ce881-c81a-4d49-f2af-78804fe91632",
        "colab": {
          "base_uri": "https://localhost:8080/",
          "height": 233
        }
      },
      "source": [
        "def print_n_times(n, *values):  #*values는 가변 매개변수\n",
        "  for i in range(n):\n",
        "    for value in values:\n",
        "      print(value)\n",
        "    print()\n",
        "\n",
        "print_n_times(3, \"안녕\", \"즐거운\", \"파이썬 공부;-;\")"
      ],
      "execution_count": 0,
      "outputs": [
        {
          "output_type": "stream",
          "text": [
            "안녕\n",
            "즐거운\n",
            "파이썬 공부;-;\n",
            "\n",
            "안녕\n",
            "즐거운\n",
            "파이썬 공부;-;\n",
            "\n",
            "안녕\n",
            "즐거운\n",
            "파이썬 공부;-;\n",
            "\n"
          ],
          "name": "stdout"
        }
      ]
    },
    {
      "cell_type": "code",
      "metadata": {
        "id": "ntlJiI4kcTmT",
        "colab_type": "code",
        "outputId": "4d1207a1-ce57-4292-e26a-bfcd078d6faa",
        "colab": {
          "base_uri": "https://localhost:8080/",
          "height": 233
        }
      },
      "source": [
        "def print_n_times(*values, n=2):\n",
        "  for i in range(n):\n",
        "    for value in values:\n",
        "      print(value)\n",
        "    print()\n",
        "\n",
        "print_n_times(\"안녕\", \"즐거운\", \"파이썬 공부;-;\", n=3)  #키워드 매개변수 활용"
      ],
      "execution_count": 0,
      "outputs": [
        {
          "output_type": "stream",
          "text": [
            "안녕\n",
            "즐거운\n",
            "파이썬 공부;-;\n",
            "\n",
            "안녕\n",
            "즐거운\n",
            "파이썬 공부;-;\n",
            "\n",
            "안녕\n",
            "즐거운\n",
            "파이썬 공부;-;\n",
            "\n"
          ],
          "name": "stdout"
        }
      ]
    },
    {
      "cell_type": "code",
      "metadata": {
        "id": "ui5I6eaQcqEw",
        "colab_type": "code",
        "outputId": "7a458e4b-6aff-4dd1-9d05-251a4a4ada9b",
        "colab": {
          "base_uri": "https://localhost:8080/",
          "height": 71
        }
      },
      "source": [
        "def sum_all(start=0, end=100, step=1):\n",
        "  output=0\n",
        "  for i in range(start, end+1, step):\n",
        "    output += i\n",
        "\n",
        "  return output\n",
        "\n",
        "print(\"A.\", sum_all(0, 100, 10))\n",
        "print(\"B.\", sum_all(end=100))\n",
        "print(\"C.\", sum_all(end=100, step=2))"
      ],
      "execution_count": 0,
      "outputs": [
        {
          "output_type": "stream",
          "text": [
            "A. 550\n",
            "B. 5050\n",
            "C. 2550\n"
          ],
          "name": "stdout"
        }
      ]
    },
    {
      "cell_type": "code",
      "metadata": {
        "id": "GEK9SkRLh3dr",
        "colab_type": "code",
        "outputId": "533ced1b-ae77-4692-9098-af3406b1e349",
        "colab": {
          "base_uri": "https://localhost:8080/",
          "height": 35
        }
      },
      "source": [
        "#확인문제 2.\n",
        "def mul(*values):\n",
        "  output = 1\n",
        "  for i in values:\n",
        "    output *= i\n",
        "    \n",
        "  return output\n",
        "\n",
        "print(mul(5,7,9,10))\n"
      ],
      "execution_count": 0,
      "outputs": [
        {
          "output_type": "stream",
          "text": [
            "3150\n"
          ],
          "name": "stdout"
        }
      ]
    },
    {
      "cell_type": "code",
      "metadata": {
        "id": "aSHMiTfmjWS6",
        "colab_type": "code",
        "outputId": "3b9382b6-5fb9-4db6-bfcf-41dedd5079c0",
        "colab": {
          "base_uri": "https://localhost:8080/",
          "height": 35
        }
      },
      "source": [
        "#반복문으로 팩토리얼 구하기\n",
        "def factorial(n):\n",
        "  output = 1\n",
        "  for i in range(1, n+1):\n",
        "    output *= i\n",
        "\n",
        "  return output\n",
        "\n",
        "print(\"5!:\", factorial(5))"
      ],
      "execution_count": 0,
      "outputs": [
        {
          "output_type": "stream",
          "text": [
            "5!: 120\n"
          ],
          "name": "stdout"
        }
      ]
    },
    {
      "cell_type": "code",
      "metadata": {
        "id": "k2FSjvwnlj1a",
        "colab_type": "code",
        "outputId": "39890a55-de7f-489a-80b9-f11fb34ae115",
        "colab": {
          "base_uri": "https://localhost:8080/",
          "height": 35
        }
      },
      "source": [
        "#재귀 함수로 팩토리얼 구하기\n",
        "def factorial(n):\n",
        "  if n == 0:\n",
        "    return 1\n",
        "  else:\n",
        "    return n*factorial(n-1)\n",
        "\n",
        "print(\"5!:\", factorial(5))"
      ],
      "execution_count": 0,
      "outputs": [
        {
          "output_type": "stream",
          "text": [
            "5!: 120\n"
          ],
          "name": "stdout"
        }
      ]
    },
    {
      "cell_type": "code",
      "metadata": {
        "id": "rtFA2apYmOkK",
        "colab_type": "code",
        "outputId": "2fa0804e-0ac2-45fe-e74e-50e0bfecbbd0",
        "colab": {
          "base_uri": "https://localhost:8080/",
          "height": 35
        }
      },
      "source": [
        "#재귀 함수로 피보나치 수열 구현하기1\n",
        "def fibonacci(n):\n",
        "  if n == 1:\n",
        "    return 1\n",
        "  if n == 2:\n",
        "    return 1\n",
        "  else:\n",
        "    return fibonacci(n-1)+fibonacci(n-2)\n",
        "  \n",
        "print(fibonacci(5))"
      ],
      "execution_count": 0,
      "outputs": [
        {
          "output_type": "stream",
          "text": [
            "9227465\n"
          ],
          "name": "stdout"
        }
      ]
    },
    {
      "cell_type": "code",
      "metadata": {
        "id": "FUrKRw2jm6Z_",
        "colab_type": "code",
        "outputId": "d1785597-57e8-4ffe-df94-62e5ce3b2973",
        "colab": {
          "base_uri": "https://localhost:8080/",
          "height": 215
        }
      },
      "source": [
        "#재귀 함수로 피보나치 수열 구현하기2\n",
        "counter = 0\n",
        "\n",
        "def fibonacci(n):\n",
        "  print(\"fibonacci({})를 구합니다.\".format(n))\n",
        "  global counter  #파이썬에서는 함수 내부에서 함수 외부에 있는 변수를 참조하지 못해서 global 키워드를 사용함\n",
        "  counter += 1\n",
        "\n",
        "  if n == 1:\n",
        "    return 1\n",
        "  if n == 2:\n",
        "    return 1\n",
        "  else:\n",
        "    return fibonacci(n-1)+fibonacci(n-2)\n",
        "\n",
        "fibonacci(5)\n",
        "print(\"---\")\n",
        "print(\"fibonacci(5)에 계산에 활용된 덧셈 횟수는 {}번입니다.\".format(counter))"
      ],
      "execution_count": 0,
      "outputs": [
        {
          "output_type": "stream",
          "text": [
            "fibonacci(5)를 구합니다.\n",
            "fibonacci(4)를 구합니다.\n",
            "fibonacci(3)를 구합니다.\n",
            "fibonacci(2)를 구합니다.\n",
            "fibonacci(1)를 구합니다.\n",
            "fibonacci(2)를 구합니다.\n",
            "fibonacci(3)를 구합니다.\n",
            "fibonacci(2)를 구합니다.\n",
            "fibonacci(1)를 구합니다.\n",
            "---\n",
            "fibonacci(5)에 계산에 활용된 덧셈 횟수는 9번입니다.\n"
          ],
          "name": "stdout"
        }
      ]
    },
    {
      "cell_type": "code",
      "metadata": {
        "id": "bjUSO-mCo5LD",
        "colab_type": "code",
        "outputId": "b07fbdd8-232f-4213-8b88-22d23d2a5401",
        "colab": {
          "base_uri": "https://localhost:8080/",
          "height": 35
        }
      },
      "source": [
        "#메모화를 사용해 피보나치 수열 구하기\n",
        "dictionary = {\n",
        "    1: 1,\n",
        "    2: 2\n",
        "}\n",
        "\n",
        "def fibonacci(n):\n",
        "  if n in dictionary:\n",
        "    return dictionary[n]\n",
        "  else:\n",
        "    output = fibonacci(n-1)+fibonacci(n-2)\n",
        "    dictionary[n] = output\n",
        "    return output\n",
        "  \n",
        "print(fibonacci(5))"
      ],
      "execution_count": 0,
      "outputs": [
        {
          "output_type": "stream",
          "text": [
            "8\n"
          ],
          "name": "stdout"
        }
      ]
    },
    {
      "cell_type": "code",
      "metadata": {
        "id": "RP4ZKm0ZpZse",
        "colab_type": "code",
        "outputId": "4333b1c0-4d99-422a-efd8-6873028ca3b2",
        "colab": {
          "base_uri": "https://localhost:8080/",
          "height": 53
        }
      },
      "source": [
        "#확인문제 1.\n",
        "def flatten(data):\n",
        "  output = []\n",
        "  for i in data:\n",
        "    if type(i) == list:\n",
        "      output += flatten(i)\n",
        "  else:\n",
        "    output.append(i)  #리스트 뒤에 추가\n",
        "  return output\n",
        "\n",
        "example = [[1,2,3],[4,[5,6]],7,[8,9]]\n",
        "print(\"원본:\", example)\n",
        "print(\"변환:\", flatten(example))"
      ],
      "execution_count": 0,
      "outputs": [
        {
          "output_type": "stream",
          "text": [
            "원본: [[1, 2, 3], [4, [5, 6]], 7, [8, 9]]\n",
            "변환: [3, 6, [5, 6], 9, [8, 9]]\n"
          ],
          "name": "stdout"
        }
      ]
    },
    {
      "cell_type": "code",
      "metadata": {
        "id": "tlQM8m96s8x9",
        "colab_type": "code",
        "outputId": "7d2d1fcd-17fb-406a-cc24-5d73c0455cb9",
        "colab": {
          "base_uri": "https://localhost:8080/",
          "height": 35
        }
      },
      "source": [
        "#확인문제 2. ***\n",
        "sitmin = 2\n",
        "sitmax = 10\n",
        "total = 100\n",
        "memo = {}\n",
        "\n",
        "def solution(restpeople, sitpeople):\n",
        "  key = str([restpeople, sitpeople])\n",
        "  #종료 조건\n",
        "  if key in memo:\n",
        "    return memo[key]\n",
        "  if restpeople < 0:\n",
        "    return 0\n",
        "  if restpeople == 0:\n",
        "    return 1\n",
        "  #재귀 처리\n",
        "  count = 0\n",
        "  for i in range(sitpeople, sitmax +1):\n",
        "    count += solution(restpeople-i, i)\n",
        "  #메모화 처리\n",
        "  memo[key] = count\n",
        "  #종료\n",
        "  return count\n",
        "\n",
        "print(solution(total, sitmin))"
      ],
      "execution_count": 0,
      "outputs": [
        {
          "output_type": "stream",
          "text": [
            "437420\n"
          ],
          "name": "stdout"
        }
      ]
    },
    {
      "cell_type": "code",
      "metadata": {
        "id": "0Z2PyrR9urCe",
        "colab_type": "code",
        "outputId": "4abc4ee1-7870-4537-cdf5-4f62fde2d3b3",
        "colab": {
          "base_uri": "https://localhost:8080/",
          "height": 269
        }
      },
      "source": [
        "#튜플: 리스트와 비슷한 자료형으로 한번 결정된 요소는 바꿀 수 없음\n",
        "for i, value in enumerate([1,2,3,4,5,6]): #i, value가 (i, value)인 튜플임\n",
        "  print(\"{}번째 요소는 {}입니다.\".format(i, value))\n",
        "\n",
        "#람다: 함수를 간단하고 쉽게 선언하는 방법\n",
        "#map(함수, 리스트): 리스트의 요소를 함수에 넣고 리턴된 값으로 새로운 리스트를 구성해주는 함수\n",
        "#filter(함수, 리스트): 리스트의 요소를 함수에 넣고 리턴된 값이 True인 것으로 새로운 리스트를 구성해주는 함수\n",
        "list_input_a = [1,2,3,4,5]\n",
        "\n",
        "output_a = map(lambda x: x * x, list_input_a)\n",
        "print(\"#map() 함수 실행 결과\")\n",
        "print(\"map(power, list_input_a):\", output_a)\n",
        "print(\"map(power, list_input_a):\", list(output_a))\n",
        "print()\n",
        "\n",
        "output_b = filter(lambda x: x < 3, list_input_a)\n",
        "print(\"#filter() 함수 실행 결과\")\n",
        "print(\"filter(under_3, list_input_a):\", output_b)\n",
        "print(\"filter(under_3, list_input_a):\", list(output_b))"
      ],
      "execution_count": 0,
      "outputs": [
        {
          "output_type": "stream",
          "text": [
            "0번째 요소는 1입니다.\n",
            "1번째 요소는 2입니다.\n",
            "2번째 요소는 3입니다.\n",
            "3번째 요소는 4입니다.\n",
            "4번째 요소는 5입니다.\n",
            "5번째 요소는 6입니다.\n",
            "#map() 함수 실행 결과\n",
            "map(power, list_input_a): <map object at 0x7f4ee835bf60>\n",
            "map(power, list_input_a): [1, 4, 9, 16, 25]\n",
            "\n",
            "#filter() 함수 실행 결과\n",
            "filter(under_3, list_input_a): <filter object at 0x7f4ee8bd27f0>\n",
            "filter(under_3, list_input_a): [1, 2]\n",
            "\n"
          ],
          "name": "stdout"
        }
      ]
    },
    {
      "cell_type": "code",
      "metadata": {
        "id": "f34enU5op2_x",
        "colab_type": "code",
        "outputId": "c3f21d6f-f540-431b-bcd2-72004dfe983d",
        "colab": {
          "base_uri": "https://localhost:8080/",
          "height": 35
        }
      },
      "source": [
        "#파일 처리\n",
        "with open(\"basic.txt\", \"w\") as file:\n",
        "  file.write(\"파이썬 공부하기~\")\n",
        "\n",
        "with open(\"basic.txt\", \"r\") as file:\n",
        "  contents = file.read()\n",
        "print(contents)"
      ],
      "execution_count": 0,
      "outputs": [
        {
          "output_type": "stream",
          "text": [
            "파이썬 공부하기~\n"
          ],
          "name": "stdout"
        }
      ]
    },
    {
      "cell_type": "code",
      "metadata": {
        "id": "TBrgnmSYqUVo",
        "colab_type": "code",
        "outputId": "a3de3f69-e79e-4a08-be2c-740c7de06248",
        "colab": {
          "base_uri": "https://localhost:8080/",
          "height": 53
        }
      },
      "source": [
        "#확인문제 1.\n",
        "numbers = [1, 2, 3, 4, 5, 6]\n",
        "\n",
        "print(\"::\".join(str(numbers))) #이건 다르넹..***\n",
        "print(\"::\".join(map(str, numbers)))"
      ],
      "execution_count": 0,
      "outputs": [
        {
          "output_type": "stream",
          "text": [
            "[::1::,:: ::2::,:: ::3::,:: ::4::,:: ::5::,:: ::6::]\n",
            "1::2::3::4::5::6\n"
          ],
          "name": "stdout"
        }
      ]
    },
    {
      "cell_type": "code",
      "metadata": {
        "id": "sQ9SM9DQwwTp",
        "colab_type": "code",
        "outputId": "af0ce69b-72f8-4f52-ce48-aba0d177ca1c",
        "colab": {
          "base_uri": "https://localhost:8080/",
          "height": 179
        }
      },
      "source": [
        "#확인문제 2. \n",
        "numbers = list(range(1, 10 +1))\n",
        "\n",
        "print(\"#홀수만 추출하기\")\n",
        "print(list(filter(lambda x: x%2==1, numbers)))\n",
        "print()\n",
        "\n",
        "print(\"#3 이상, 7 미만 추출하기\")\n",
        "print(list(filter(lambda x: 3<=x<7, numbers)))\n",
        "print()\n",
        "\n",
        "print(\"#제곱해서 50 미만 추출하기\")\n",
        "print(list(filter(lambda x: x*x < 50, numbers)))\n",
        "print()"
      ],
      "execution_count": 0,
      "outputs": [
        {
          "output_type": "stream",
          "text": [
            "#홀수만 추출하기\n",
            "[1, 3, 5, 7, 9]\n",
            "\n",
            "#3 이상, 7 미만 추출하기\n",
            "[3, 4, 5, 6]\n",
            "\n",
            "#제곱해서 50 미만 추출하기\n",
            "[1, 2, 3, 4, 5, 6, 7]\n",
            "\n"
          ],
          "name": "stdout"
        }
      ]
    }
  ]
}
