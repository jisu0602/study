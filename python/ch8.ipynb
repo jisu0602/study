{
  "nbformat": 4,
  "nbformat_minor": 0,
  "metadata": {
    "colab": {
      "name": "ch8",
      "provenance": [],
      "authorship_tag": "ABX9TyM+ZiGuW0WY8OtgtEB3EEvB",
      "include_colab_link": true
    },
    "kernelspec": {
      "name": "python3",
      "display_name": "Python 3"
    }
  },
  "cells": [
    {
      "cell_type": "markdown",
      "metadata": {
        "id": "view-in-github",
        "colab_type": "text"
      },
      "source": [
        "<a href=\"https://colab.research.google.com/github/jisu0602/study/blob/master/ch8.ipynb\" target=\"_parent\"><img src=\"https://colab.research.google.com/assets/colab-badge.svg\" alt=\"Open In Colab\"/></a>"
      ]
    },
    {
      "cell_type": "code",
      "metadata": {
        "id": "3jFyFmmkzi27",
        "colab_type": "code",
        "colab": {}
      },
      "source": [
        "'''\n",
        "객체 지향 프로그래밍: Object Oriented Programming\n",
        "-클래스(class) 기반으로 객체(object)를 만들고, 이러한 객체를 우선으로 생각해서 프로그래밍하는 것\n",
        "추상화: 복잡한 자료, 모듈, 시스템에서부터 핵심적인 개념이나 기능을 간추려 내는 것\n",
        "\n",
        "객체: 여러 가지 속성을 가질 수 있는 모든 것\n",
        "클래스: 객체를 조금 더 효율적으로 생성하기 위해서 만들어진 구문\n",
        "  붕어빵 틀(클래스) -> 실체화된 붕어빵(인스턴스)\n",
        "생성자: 클래스 이름과 같은 함수\n",
        "  class 클래스 이름:\n",
        "    def __init__(self, 추가적인 매개변수):\n",
        "      pass\n",
        "메소드: 클래스가 가지고 있는 함수\n",
        "\n",
        "클래스를 사용하는 것은 작정하고 속성과 기능을 가진 객체를 만들겠다는 의미!\n",
        "isinstance(): 객체(인스턴스)가 어떤 클래스로부터 만들어졌는지 확인하는 함수\n",
        "  isinstanace(인스턴스, 클래스) -> True, False 출력\n",
        "__str__(): srt()함수를 호출할 때 __str__() 함수가 자동 호출, 객체를 문자열로 변환\n",
        "\n",
        "클래스 변수와 메소드\n",
        "  class 클래스 이름:\n",
        "    클래스 변수 = 값\n",
        "\n",
        "  클래스 이름.변수 이름\n",
        "\n",
        "클래스 함수\n",
        "  class 클래스 이름:\n",
        "    @classmethod\n",
        "    def 클래스 함수(cls, 매개변수):\n",
        "      pass\n",
        "  \n",
        "  클래스 이름.함수 이름(매개변수)\n",
        "\n",
        "가비지 컬렉터(garbage collector): 더 사용할 가능성이 없는 데이터를 메모리에서 제거하는 역할\n",
        "프라이빗 변수: __<변수 이름> 형태로 선언하면 외부에서 사용할 수 없는 변수가 됨\n",
        "게터와 세터: 프라이빗 변수의 값을 추출하거나 변경할 목적으로, 간접적으로 속성에 접근하도록 해주는 함수\n",
        "  데코레이터로 게터와 세터 이용하기: @<변수 이름>.setter\n",
        "'''"
      ],
      "execution_count": 0,
      "outputs": []
    },
    {
      "cell_type": "code",
      "metadata": {
        "id": "svvM8GziLEtu",
        "colab_type": "code",
        "colab": {
          "base_uri": "https://localhost:8080/",
          "height": 125
        },
        "outputId": "b111cd22-2601-4cdb-9fc6-bfd37ada5d39"
      },
      "source": [
        "#확인문제 1.\n",
        "class Student:\n",
        "  def __init__(self, name, korean, math, english, science):\n",
        "    self.name = name\n",
        "    self.korean = korean\n",
        "    self.math = math\n",
        "    self.english = english\n",
        "    self.science = science\n",
        "  \n",
        "  def get_sum(self):\n",
        "    return self.korean + self.math + self.english + self.science\n",
        "\n",
        "  def get_average(self):\n",
        "    return self.get_sum() / 4\n",
        "  \n",
        "  def __eq__(self, value):\n",
        "    return self.get_average() == value\n",
        "  def __ne__(self, value):\n",
        "    return self.get_average() != value\n",
        "  def __gt__(self, value):\n",
        "    return self.get_average() > value\n",
        "  def __ge__(self, value):\n",
        "    return self.get_average() >= value\n",
        "  def __lt__(self, value):\n",
        "    return self.get_average() < value\n",
        "  def __le__(self, value):\n",
        "    return self.get_average() <= value\n",
        "\n",
        "test = Student(\"A\", 90, 90, 90, 90)\n",
        "\n",
        "print(\"test == 90:\", test == 90)\n",
        "print(\"test != 90:\", test != 90)\n",
        "print(\"test >  90:\", test >  90)\n",
        "print(\"test >= 90:\", test >= 90)\n",
        "print(\"test <  90:\", test <  90)\n",
        "print(\"test <= 90:\", test <= 90)"
      ],
      "execution_count": 1,
      "outputs": [
        {
          "output_type": "stream",
          "text": [
            "test == 90: True\n",
            "test != 90: False\n",
            "test >  90: False\n",
            "test >= 90: True\n",
            "test <  90: False\n",
            "test <= 90: True\n"
          ],
          "name": "stdout"
        }
      ]
    }
  ]
}
